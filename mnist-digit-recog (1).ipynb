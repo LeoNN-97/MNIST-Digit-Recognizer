{
 "cells": [
  {
   "cell_type": "code",
   "execution_count": 1,
   "id": "433a7aeb",
   "metadata": {
    "_cell_guid": "b1076dfc-b9ad-4769-8c92-a6c4dae69d19",
    "_uuid": "8f2839f25d086af736a60e9eeb907d3b93b6e0e5",
    "execution": {
     "iopub.execute_input": "2022-07-02T12:17:57.878434Z",
     "iopub.status.busy": "2022-07-02T12:17:57.877813Z",
     "iopub.status.idle": "2022-07-02T12:17:57.894646Z",
     "shell.execute_reply": "2022-07-02T12:17:57.893802Z"
    },
    "papermill": {
     "duration": 0.032863,
     "end_time": "2022-07-02T12:17:57.897374",
     "exception": false,
     "start_time": "2022-07-02T12:17:57.864511",
     "status": "completed"
    },
    "tags": []
   },
   "outputs": [
    {
     "name": "stdout",
     "output_type": "stream",
     "text": [
      "/kaggle/input/digit-recognizer/sample_submission.csv\n",
      "/kaggle/input/digit-recognizer/train.csv\n",
      "/kaggle/input/digit-recognizer/test.csv\n"
     ]
    }
   ],
   "source": [
    "# This Python 3 environment comes with many helpful analytics libraries installed\n",
    "# It is defined by the kaggle/python Docker image: https://github.com/kaggle/docker-python\n",
    "# For example, here's several helpful packages to load\n",
    "\n",
    "import numpy as np # linear algebra\n",
    "import pandas as pd # data processing, CSV file I/O (e.g. pd.read_csv)\n",
    "\n",
    "# Input data files are available in the read-only \"../input/\" directory\n",
    "# For example, running this (by clicking run or pressing Shift+Enter) will list all files under the input directory\n",
    "\n",
    "import os\n",
    "for dirname, _, filenames in os.walk('/kaggle/input'):\n",
    "    for filename in filenames:\n",
    "        print(os.path.join(dirname, filename))\n",
    "\n",
    "# You can write up to 20GB to the current directory (/kaggle/working/) that gets preserved as output when you create a version using \"Save & Run All\" \n",
    "# You can also write temporary files to /kaggle/temp/, but they won't be saved outside of the current session"
   ]
  },
  {
   "cell_type": "code",
   "execution_count": 2,
   "id": "f22f5049",
   "metadata": {
    "execution": {
     "iopub.execute_input": "2022-07-02T12:17:57.919769Z",
     "iopub.status.busy": "2022-07-02T12:17:57.918590Z",
     "iopub.status.idle": "2022-07-02T12:18:09.124487Z",
     "shell.execute_reply": "2022-07-02T12:18:09.123682Z"
    },
    "papermill": {
     "duration": 11.219234,
     "end_time": "2022-07-02T12:18:09.126892",
     "exception": false,
     "start_time": "2022-07-02T12:17:57.907658",
     "status": "completed"
    },
    "tags": []
   },
   "outputs": [],
   "source": [
    "from tensorflow.keras import optimizers\n",
    "from tensorflow.keras import regularizers\n",
    "import matplotlib.pyplot as plt\n",
    "from keras.models import Sequential\n",
    "from sklearn.metrics import accuracy_score\n",
    "from sklearn.ensemble import VotingClassifier\n",
    "from keras.utils.np_utils import to_categorical\n",
    "from sklearn.model_selection import train_test_split\n",
    "from keras.wrappers.scikit_learn import KerasClassifier\n",
    "from keras.layers import Activation, Dense, BatchNormalization, Dropout"
   ]
  },
  {
   "cell_type": "code",
   "execution_count": 3,
   "id": "b4cffd54",
   "metadata": {
    "execution": {
     "iopub.execute_input": "2022-07-02T12:18:09.148164Z",
     "iopub.status.busy": "2022-07-02T12:18:09.147158Z",
     "iopub.status.idle": "2022-07-02T12:18:15.270244Z",
     "shell.execute_reply": "2022-07-02T12:18:15.268928Z"
    },
    "papermill": {
     "duration": 6.136805,
     "end_time": "2022-07-02T12:18:15.273112",
     "exception": false,
     "start_time": "2022-07-02T12:18:09.136307",
     "status": "completed"
    },
    "tags": []
   },
   "outputs": [],
   "source": [
    "digit_train=pd.read_csv(\"/kaggle/input/digit-recognizer/train.csv\")\n",
    "X_test=pd.read_csv(\"/kaggle/input/digit-recognizer/test.csv\")\n",
    "dig_sub=pd.read_csv(\"/kaggle/input/digit-recognizer/sample_submission.csv\")"
   ]
  },
  {
   "cell_type": "code",
   "execution_count": 4,
   "id": "e6b290b8",
   "metadata": {
    "execution": {
     "iopub.execute_input": "2022-07-02T12:18:15.294052Z",
     "iopub.status.busy": "2022-07-02T12:18:15.293615Z",
     "iopub.status.idle": "2022-07-02T12:18:15.302424Z",
     "shell.execute_reply": "2022-07-02T12:18:15.301382Z"
    },
    "papermill": {
     "duration": 0.021976,
     "end_time": "2022-07-02T12:18:15.304764",
     "exception": false,
     "start_time": "2022-07-02T12:18:15.282788",
     "status": "completed"
    },
    "tags": []
   },
   "outputs": [
    {
     "data": {
      "text/plain": [
       "(42000, 785)"
      ]
     },
     "execution_count": 4,
     "metadata": {},
     "output_type": "execute_result"
    }
   ],
   "source": [
    "digit_train.shape"
   ]
  },
  {
   "cell_type": "code",
   "execution_count": 5,
   "id": "20d6cb20",
   "metadata": {
    "execution": {
     "iopub.execute_input": "2022-07-02T12:18:15.325484Z",
     "iopub.status.busy": "2022-07-02T12:18:15.325099Z",
     "iopub.status.idle": "2022-07-02T12:18:15.367813Z",
     "shell.execute_reply": "2022-07-02T12:18:15.366758Z"
    },
    "papermill": {
     "duration": 0.055813,
     "end_time": "2022-07-02T12:18:15.370175",
     "exception": false,
     "start_time": "2022-07-02T12:18:15.314362",
     "status": "completed"
    },
    "tags": []
   },
   "outputs": [
    {
     "data": {
      "text/plain": [
       "pixel0      0\n",
       "pixel1      0\n",
       "pixel2      0\n",
       "pixel3      0\n",
       "pixel4      0\n",
       "           ..\n",
       "pixel779    0\n",
       "pixel780    0\n",
       "pixel781    0\n",
       "pixel782    0\n",
       "pixel783    0\n",
       "Length: 784, dtype: int64"
      ]
     },
     "execution_count": 5,
     "metadata": {},
     "output_type": "execute_result"
    }
   ],
   "source": [
    " X_test.isnull().sum()"
   ]
  },
  {
   "cell_type": "code",
   "execution_count": 6,
   "id": "2ffc09da",
   "metadata": {
    "execution": {
     "iopub.execute_input": "2022-07-02T12:18:15.391155Z",
     "iopub.status.busy": "2022-07-02T12:18:15.390761Z",
     "iopub.status.idle": "2022-07-02T12:18:15.396938Z",
     "shell.execute_reply": "2022-07-02T12:18:15.395944Z"
    },
    "papermill": {
     "duration": 0.019515,
     "end_time": "2022-07-02T12:18:15.399379",
     "exception": false,
     "start_time": "2022-07-02T12:18:15.379864",
     "status": "completed"
    },
    "tags": []
   },
   "outputs": [
    {
     "data": {
      "text/plain": [
       "(28000, 784)"
      ]
     },
     "execution_count": 6,
     "metadata": {},
     "output_type": "execute_result"
    }
   ],
   "source": [
    "X_test.shape"
   ]
  },
  {
   "cell_type": "code",
   "execution_count": 7,
   "id": "0b4bc00a",
   "metadata": {
    "execution": {
     "iopub.execute_input": "2022-07-02T12:18:15.420573Z",
     "iopub.status.busy": "2022-07-02T12:18:15.420189Z",
     "iopub.status.idle": "2022-07-02T12:18:15.435721Z",
     "shell.execute_reply": "2022-07-02T12:18:15.434481Z"
    },
    "papermill": {
     "duration": 0.029331,
     "end_time": "2022-07-02T12:18:15.438477",
     "exception": false,
     "start_time": "2022-07-02T12:18:15.409146",
     "status": "completed"
    },
    "tags": []
   },
   "outputs": [],
   "source": [
    "#y_train=to_categorical(digit_train.pop(\"label\"))\n",
    "y_train=digit_train.pop(\"label\")\n",
    "X_train=digit_train\n"
   ]
  },
  {
   "cell_type": "markdown",
   "id": "9794ad69",
   "metadata": {
    "papermill": {
     "duration": 0.009428,
     "end_time": "2022-07-02T12:18:15.457784",
     "exception": false,
     "start_time": "2022-07-02T12:18:15.448356",
     "status": "completed"
    },
    "tags": []
   },
   "source": [
    "# Scaling input Training and Test Data"
   ]
  },
  {
   "cell_type": "code",
   "execution_count": 8,
   "id": "3bf90d64",
   "metadata": {
    "execution": {
     "iopub.execute_input": "2022-07-02T12:18:15.478915Z",
     "iopub.status.busy": "2022-07-02T12:18:15.478518Z",
     "iopub.status.idle": "2022-07-02T12:18:15.637443Z",
     "shell.execute_reply": "2022-07-02T12:18:15.636584Z"
    },
    "papermill": {
     "duration": 0.17262,
     "end_time": "2022-07-02T12:18:15.640005",
     "exception": false,
     "start_time": "2022-07-02T12:18:15.467385",
     "status": "completed"
    },
    "tags": []
   },
   "outputs": [],
   "source": [
    "X_train=X_train/255.0\n",
    "X_test=X_test/255.0"
   ]
  },
  {
   "cell_type": "markdown",
   "id": "7c96681d",
   "metadata": {
    "papermill": {
     "duration": 0.009532,
     "end_time": "2022-07-02T12:18:15.659282",
     "exception": false,
     "start_time": "2022-07-02T12:18:15.649750",
     "status": "completed"
    },
    "tags": []
   },
   "source": [
    "# One hot encoding the output values(categories 0-9) in Dense format, so sparse is set to False"
   ]
  },
  {
   "cell_type": "code",
   "execution_count": 9,
   "id": "4756c9bd",
   "metadata": {
    "execution": {
     "iopub.execute_input": "2022-07-02T12:18:15.680507Z",
     "iopub.status.busy": "2022-07-02T12:18:15.680112Z",
     "iopub.status.idle": "2022-07-02T12:18:15.686779Z",
     "shell.execute_reply": "2022-07-02T12:18:15.685744Z"
    },
    "papermill": {
     "duration": 0.019568,
     "end_time": "2022-07-02T12:18:15.688942",
     "exception": false,
     "start_time": "2022-07-02T12:18:15.669374",
     "status": "completed"
    },
    "tags": []
   },
   "outputs": [
    {
     "data": {
      "text/plain": [
       "42000"
      ]
     },
     "execution_count": 9,
     "metadata": {},
     "output_type": "execute_result"
    }
   ],
   "source": [
    "len(y_train.values)"
   ]
  },
  {
   "cell_type": "code",
   "execution_count": 10,
   "id": "304aa8c3",
   "metadata": {
    "execution": {
     "iopub.execute_input": "2022-07-02T12:18:15.711622Z",
     "iopub.status.busy": "2022-07-02T12:18:15.710513Z",
     "iopub.status.idle": "2022-07-02T12:18:15.727787Z",
     "shell.execute_reply": "2022-07-02T12:18:15.727005Z"
    },
    "papermill": {
     "duration": 0.03133,
     "end_time": "2022-07-02T12:18:15.730234",
     "exception": false,
     "start_time": "2022-07-02T12:18:15.698904",
     "status": "completed"
    },
    "tags": []
   },
   "outputs": [],
   "source": [
    "from sklearn.preprocessing import OneHotEncoder\n",
    "enc=OneHotEncoder(sparse=False)\n",
    "y_train=enc.fit_transform(y_train.values.reshape(-1,1))\n"
   ]
  },
  {
   "cell_type": "code",
   "execution_count": 11,
   "id": "9130c56d",
   "metadata": {
    "execution": {
     "iopub.execute_input": "2022-07-02T12:18:15.751922Z",
     "iopub.status.busy": "2022-07-02T12:18:15.751145Z",
     "iopub.status.idle": "2022-07-02T12:18:15.757913Z",
     "shell.execute_reply": "2022-07-02T12:18:15.756533Z"
    },
    "papermill": {
     "duration": 0.021073,
     "end_time": "2022-07-02T12:18:15.761185",
     "exception": false,
     "start_time": "2022-07-02T12:18:15.740112",
     "status": "completed"
    },
    "tags": []
   },
   "outputs": [
    {
     "name": "stdout",
     "output_type": "stream",
     "text": [
      "(42000, 784)\n",
      "(28000, 784)\n",
      "(42000, 10)\n"
     ]
    }
   ],
   "source": [
    "print(X_train.shape)\n",
    "print(X_test.shape)\n",
    "print(y_train.shape)"
   ]
  },
  {
   "cell_type": "markdown",
   "id": "7fc257ad",
   "metadata": {
    "papermill": {
     "duration": 0.009895,
     "end_time": "2022-07-02T12:18:15.781449",
     "exception": false,
     "start_time": "2022-07-02T12:18:15.771554",
     "status": "completed"
    },
    "tags": []
   },
   "source": [
    "# **2 hidden layers with dropout Batch normalisation and Early stopping**"
   ]
  },
  {
   "cell_type": "code",
   "execution_count": 12,
   "id": "3ef926bc",
   "metadata": {
    "execution": {
     "iopub.execute_input": "2022-07-02T12:18:15.803703Z",
     "iopub.status.busy": "2022-07-02T12:18:15.802925Z",
     "iopub.status.idle": "2022-07-02T12:18:15.989568Z",
     "shell.execute_reply": "2022-07-02T12:18:15.988044Z"
    },
    "papermill": {
     "duration": 0.200871,
     "end_time": "2022-07-02T12:18:15.992231",
     "exception": false,
     "start_time": "2022-07-02T12:18:15.791360",
     "status": "completed"
    },
    "tags": []
   },
   "outputs": [
    {
     "name": "stderr",
     "output_type": "stream",
     "text": [
      "2022-07-02 12:18:15.846541: I tensorflow/core/common_runtime/process_util.cc:146] Creating new thread pool with default inter op setting: 2. Tune using inter_op_parallelism_threads for best performance.\n"
     ]
    }
   ],
   "source": [
    "from tensorflow.keras.callbacks import EarlyStopping\n",
    "\n",
    "model = Sequential()\n",
    "model.add(Dense(70, input_shape = (784,), activation = 'relu',kernel_initializer='he_normal',kernel_regularizer=regularizers.l2(0.001)))\n",
    "model.add(BatchNormalization())\n",
    "model.add(Dropout(0.2))\n",
    "model.add(Dense(70, activation = 'relu',kernel_initializer='he_normal',kernel_regularizer=regularizers.l2(0.001)))\n",
    "model.add(BatchNormalization())\n",
    "model.add(Dropout(0.2))\n",
    "model.add(Dense(70, activation = 'relu',kernel_initializer='he_normal',kernel_regularizer=regularizers.l2(0.001)))\n",
    "model.add(BatchNormalization())\n",
    "model.add(Dropout(0.2))\n",
    "model.add(Dense(10, activation = 'softmax',kernel_initializer='he_normal'))"
   ]
  },
  {
   "cell_type": "code",
   "execution_count": 13,
   "id": "515cdaa5",
   "metadata": {
    "execution": {
     "iopub.execute_input": "2022-07-02T12:18:16.014618Z",
     "iopub.status.busy": "2022-07-02T12:18:16.013747Z",
     "iopub.status.idle": "2022-07-02T12:18:16.020940Z",
     "shell.execute_reply": "2022-07-02T12:18:16.019495Z"
    },
    "papermill": {
     "duration": 0.020943,
     "end_time": "2022-07-02T12:18:16.023229",
     "exception": false,
     "start_time": "2022-07-02T12:18:16.002286",
     "status": "completed"
    },
    "tags": []
   },
   "outputs": [
    {
     "name": "stdout",
     "output_type": "stream",
     "text": [
      "Model: \"sequential\"\n",
      "_________________________________________________________________\n",
      "Layer (type)                 Output Shape              Param #   \n",
      "=================================================================\n",
      "dense (Dense)                (None, 70)                54950     \n",
      "_________________________________________________________________\n",
      "batch_normalization (BatchNo (None, 70)                280       \n",
      "_________________________________________________________________\n",
      "dropout (Dropout)            (None, 70)                0         \n",
      "_________________________________________________________________\n",
      "dense_1 (Dense)              (None, 70)                4970      \n",
      "_________________________________________________________________\n",
      "batch_normalization_1 (Batch (None, 70)                280       \n",
      "_________________________________________________________________\n",
      "dropout_1 (Dropout)          (None, 70)                0         \n",
      "_________________________________________________________________\n",
      "dense_2 (Dense)              (None, 70)                4970      \n",
      "_________________________________________________________________\n",
      "batch_normalization_2 (Batch (None, 70)                280       \n",
      "_________________________________________________________________\n",
      "dropout_2 (Dropout)          (None, 70)                0         \n",
      "_________________________________________________________________\n",
      "dense_3 (Dense)              (None, 10)                710       \n",
      "=================================================================\n",
      "Total params: 66,440\n",
      "Trainable params: 66,020\n",
      "Non-trainable params: 420\n",
      "_________________________________________________________________\n"
     ]
    }
   ],
   "source": [
    "model.summary()"
   ]
  },
  {
   "cell_type": "markdown",
   "id": "5943b519",
   "metadata": {
    "papermill": {
     "duration": 0.00973,
     "end_time": "2022-07-02T12:18:16.043167",
     "exception": false,
     "start_time": "2022-07-02T12:18:16.033437",
     "status": "completed"
    },
    "tags": []
   },
   "source": [
    "### Early Stopping which checks if loss value is decreasing for 30 epochs"
   ]
  },
  {
   "cell_type": "code",
   "execution_count": 14,
   "id": "2178530a",
   "metadata": {
    "execution": {
     "iopub.execute_input": "2022-07-02T12:18:16.064617Z",
     "iopub.status.busy": "2022-07-02T12:18:16.064234Z",
     "iopub.status.idle": "2022-07-02T12:18:16.068751Z",
     "shell.execute_reply": "2022-07-02T12:18:16.068017Z"
    },
    "papermill": {
     "duration": 0.017827,
     "end_time": "2022-07-02T12:18:16.070726",
     "exception": false,
     "start_time": "2022-07-02T12:18:16.052899",
     "status": "completed"
    },
    "tags": []
   },
   "outputs": [],
   "source": [
    "keras_callbacks   = [EarlyStopping(monitor='val_acc', patience=10, min_delta=5,restore_best_weights=True)]\n"
   ]
  },
  {
   "cell_type": "markdown",
   "id": "5094844b",
   "metadata": {
    "papermill": {
     "duration": 0.009468,
     "end_time": "2022-07-02T12:18:16.089962",
     "exception": false,
     "start_time": "2022-07-02T12:18:16.080494",
     "status": "completed"
    },
    "tags": []
   },
   "source": [
    "## **Learning Rate is 0.001**"
   ]
  },
  {
   "cell_type": "code",
   "execution_count": 15,
   "id": "2eacb1ee",
   "metadata": {
    "execution": {
     "iopub.execute_input": "2022-07-02T12:18:16.111849Z",
     "iopub.status.busy": "2022-07-02T12:18:16.110884Z",
     "iopub.status.idle": "2022-07-02T12:18:16.126303Z",
     "shell.execute_reply": "2022-07-02T12:18:16.125143Z"
    },
    "papermill": {
     "duration": 0.028805,
     "end_time": "2022-07-02T12:18:16.128680",
     "exception": false,
     "start_time": "2022-07-02T12:18:16.099875",
     "status": "completed"
    },
    "tags": []
   },
   "outputs": [],
   "source": [
    "adam = optimizers.Adam(learning_rate = 0.001)\n",
    "model.compile(optimizer = adam, loss = 'categorical_crossentropy', metrics = ['accuracy'])"
   ]
  },
  {
   "cell_type": "code",
   "execution_count": 16,
   "id": "bd0ee99e",
   "metadata": {
    "execution": {
     "iopub.execute_input": "2022-07-02T12:18:16.150804Z",
     "iopub.status.busy": "2022-07-02T12:18:16.150440Z",
     "iopub.status.idle": "2022-07-02T12:23:39.935196Z",
     "shell.execute_reply": "2022-07-02T12:23:39.934050Z"
    },
    "papermill": {
     "duration": 324.144989,
     "end_time": "2022-07-02T12:23:40.283760",
     "exception": false,
     "start_time": "2022-07-02T12:18:16.138771",
     "status": "completed"
    },
    "tags": []
   },
   "outputs": [
    {
     "name": "stderr",
     "output_type": "stream",
     "text": [
      "2022-07-02 12:18:16.749714: I tensorflow/compiler/mlir/mlir_graph_optimization_pass.cc:185] None of the MLIR Optimization Passes are enabled (registered 2)\n"
     ]
    },
    {
     "name": "stdout",
     "output_type": "stream",
     "text": [
      "Epoch 1/100\n",
      "600/600 [==============================] - 4s 5ms/step - loss: 0.9994 - accuracy: 0.8003 - val_loss: 0.5415 - val_accuracy: 0.9300\n",
      "Epoch 2/100\n",
      "600/600 [==============================] - 3s 4ms/step - loss: 0.6007 - accuracy: 0.9022 - val_loss: 0.4311 - val_accuracy: 0.9438\n",
      "Epoch 3/100\n",
      "600/600 [==============================] - 3s 4ms/step - loss: 0.4816 - accuracy: 0.9229 - val_loss: 0.3641 - val_accuracy: 0.9518\n",
      "Epoch 4/100\n",
      "600/600 [==============================] - 3s 4ms/step - loss: 0.4099 - accuracy: 0.9314 - val_loss: 0.3068 - val_accuracy: 0.9564\n",
      "Epoch 5/100\n",
      "600/600 [==============================] - 3s 5ms/step - loss: 0.3568 - accuracy: 0.9384 - val_loss: 0.2805 - val_accuracy: 0.9570\n",
      "Epoch 6/100\n",
      "600/600 [==============================] - 3s 4ms/step - loss: 0.3235 - accuracy: 0.9421 - val_loss: 0.2649 - val_accuracy: 0.9550\n",
      "Epoch 7/100\n",
      "600/600 [==============================] - 3s 4ms/step - loss: 0.3028 - accuracy: 0.9454 - val_loss: 0.2367 - val_accuracy: 0.9620\n",
      "Epoch 8/100\n",
      "600/600 [==============================] - 3s 4ms/step - loss: 0.2865 - accuracy: 0.9476 - val_loss: 0.2302 - val_accuracy: 0.9619\n",
      "Epoch 9/100\n",
      "600/600 [==============================] - 3s 5ms/step - loss: 0.2682 - accuracy: 0.9501 - val_loss: 0.2288 - val_accuracy: 0.9598\n",
      "Epoch 10/100\n",
      "600/600 [==============================] - 3s 5ms/step - loss: 0.2610 - accuracy: 0.9506 - val_loss: 0.2064 - val_accuracy: 0.9661\n",
      "Epoch 11/100\n",
      "600/600 [==============================] - 3s 5ms/step - loss: 0.2600 - accuracy: 0.9502 - val_loss: 0.2111 - val_accuracy: 0.9623\n",
      "Epoch 12/100\n",
      "600/600 [==============================] - 3s 4ms/step - loss: 0.2496 - accuracy: 0.9523 - val_loss: 0.2121 - val_accuracy: 0.9638\n",
      "Epoch 13/100\n",
      "600/600 [==============================] - 3s 5ms/step - loss: 0.2485 - accuracy: 0.9522 - val_loss: 0.1885 - val_accuracy: 0.9696\n",
      "Epoch 14/100\n",
      "600/600 [==============================] - 3s 4ms/step - loss: 0.2393 - accuracy: 0.9548 - val_loss: 0.1859 - val_accuracy: 0.9698\n",
      "Epoch 15/100\n",
      "600/600 [==============================] - 3s 5ms/step - loss: 0.2423 - accuracy: 0.9523 - val_loss: 0.2008 - val_accuracy: 0.9650\n",
      "Epoch 16/100\n",
      "600/600 [==============================] - 3s 4ms/step - loss: 0.2365 - accuracy: 0.9544 - val_loss: 0.2017 - val_accuracy: 0.9661\n",
      "Epoch 17/100\n",
      "600/600 [==============================] - 3s 5ms/step - loss: 0.2334 - accuracy: 0.9554 - val_loss: 0.1967 - val_accuracy: 0.9648\n",
      "Epoch 18/100\n",
      "600/600 [==============================] - 3s 4ms/step - loss: 0.2320 - accuracy: 0.9561 - val_loss: 0.1979 - val_accuracy: 0.9674\n",
      "Epoch 19/100\n",
      "600/600 [==============================] - 3s 4ms/step - loss: 0.2295 - accuracy: 0.9558 - val_loss: 0.1995 - val_accuracy: 0.9689\n",
      "Epoch 20/100\n",
      "600/600 [==============================] - 3s 5ms/step - loss: 0.2301 - accuracy: 0.9565 - val_loss: 0.1903 - val_accuracy: 0.9671\n",
      "Epoch 21/100\n",
      "600/600 [==============================] - 3s 5ms/step - loss: 0.2241 - accuracy: 0.9568 - val_loss: 0.1822 - val_accuracy: 0.9713\n",
      "Epoch 22/100\n",
      "600/600 [==============================] - 3s 5ms/step - loss: 0.2294 - accuracy: 0.9567 - val_loss: 0.1942 - val_accuracy: 0.9662\n",
      "Epoch 23/100\n",
      "600/600 [==============================] - 3s 5ms/step - loss: 0.2254 - accuracy: 0.9569 - val_loss: 0.1893 - val_accuracy: 0.9688\n",
      "Epoch 24/100\n",
      "600/600 [==============================] - 3s 4ms/step - loss: 0.2212 - accuracy: 0.9585 - val_loss: 0.1839 - val_accuracy: 0.9699\n",
      "Epoch 25/100\n",
      "600/600 [==============================] - 3s 5ms/step - loss: 0.2257 - accuracy: 0.9554 - val_loss: 0.1977 - val_accuracy: 0.9667\n",
      "Epoch 26/100\n",
      "600/600 [==============================] - 3s 4ms/step - loss: 0.2240 - accuracy: 0.9582 - val_loss: 0.1782 - val_accuracy: 0.9718\n",
      "Epoch 27/100\n",
      "600/600 [==============================] - 3s 4ms/step - loss: 0.2196 - accuracy: 0.9577 - val_loss: 0.1840 - val_accuracy: 0.9706\n",
      "Epoch 28/100\n",
      "600/600 [==============================] - 3s 4ms/step - loss: 0.2187 - accuracy: 0.9590 - val_loss: 0.1789 - val_accuracy: 0.9712\n",
      "Epoch 29/100\n",
      "600/600 [==============================] - 3s 5ms/step - loss: 0.2131 - accuracy: 0.9603 - val_loss: 0.2077 - val_accuracy: 0.9620\n",
      "Epoch 30/100\n",
      "600/600 [==============================] - 3s 4ms/step - loss: 0.2217 - accuracy: 0.9575 - val_loss: 0.1752 - val_accuracy: 0.9723\n",
      "Epoch 31/100\n",
      "600/600 [==============================] - 3s 5ms/step - loss: 0.2145 - accuracy: 0.9594 - val_loss: 0.1935 - val_accuracy: 0.9682\n",
      "Epoch 32/100\n",
      "600/600 [==============================] - 3s 5ms/step - loss: 0.2186 - accuracy: 0.9590 - val_loss: 0.1884 - val_accuracy: 0.9680\n",
      "Epoch 33/100\n",
      "600/600 [==============================] - 3s 6ms/step - loss: 0.2169 - accuracy: 0.9596 - val_loss: 0.2164 - val_accuracy: 0.9600\n",
      "Epoch 34/100\n",
      "600/600 [==============================] - 3s 5ms/step - loss: 0.2227 - accuracy: 0.9573 - val_loss: 0.1904 - val_accuracy: 0.9685\n",
      "Epoch 35/100\n",
      "600/600 [==============================] - 3s 4ms/step - loss: 0.2220 - accuracy: 0.9582 - val_loss: 0.1788 - val_accuracy: 0.9701\n",
      "Epoch 36/100\n",
      "600/600 [==============================] - 3s 4ms/step - loss: 0.2255 - accuracy: 0.9568 - val_loss: 0.1971 - val_accuracy: 0.9660\n",
      "Epoch 37/100\n",
      "600/600 [==============================] - 3s 5ms/step - loss: 0.2201 - accuracy: 0.9578 - val_loss: 0.1917 - val_accuracy: 0.9693\n",
      "Epoch 38/100\n",
      "600/600 [==============================] - 3s 4ms/step - loss: 0.2184 - accuracy: 0.9592 - val_loss: 0.2039 - val_accuracy: 0.9668\n",
      "Epoch 39/100\n",
      "600/600 [==============================] - 3s 4ms/step - loss: 0.2140 - accuracy: 0.9610 - val_loss: 0.1844 - val_accuracy: 0.9700\n",
      "Epoch 40/100\n",
      "600/600 [==============================] - 3s 4ms/step - loss: 0.2200 - accuracy: 0.9583 - val_loss: 0.1863 - val_accuracy: 0.9687\n",
      "Epoch 41/100\n",
      "600/600 [==============================] - 3s 4ms/step - loss: 0.2164 - accuracy: 0.9606 - val_loss: 0.1755 - val_accuracy: 0.9738\n",
      "Epoch 42/100\n",
      "600/600 [==============================] - 3s 4ms/step - loss: 0.2139 - accuracy: 0.9599 - val_loss: 0.1794 - val_accuracy: 0.9707\n",
      "Epoch 43/100\n",
      "600/600 [==============================] - 3s 4ms/step - loss: 0.2156 - accuracy: 0.9606 - val_loss: 0.1810 - val_accuracy: 0.9704\n",
      "Epoch 44/100\n",
      "600/600 [==============================] - 3s 4ms/step - loss: 0.2123 - accuracy: 0.9604 - val_loss: 0.1936 - val_accuracy: 0.9679\n",
      "Epoch 45/100\n",
      "600/600 [==============================] - 3s 5ms/step - loss: 0.2169 - accuracy: 0.9599 - val_loss: 0.2092 - val_accuracy: 0.9595\n",
      "Epoch 46/100\n",
      "600/600 [==============================] - 3s 5ms/step - loss: 0.2138 - accuracy: 0.9590 - val_loss: 0.1792 - val_accuracy: 0.9705\n",
      "Epoch 47/100\n",
      "600/600 [==============================] - 3s 5ms/step - loss: 0.2109 - accuracy: 0.9606 - val_loss: 0.1977 - val_accuracy: 0.9649\n",
      "Epoch 48/100\n",
      "600/600 [==============================] - 3s 4ms/step - loss: 0.2180 - accuracy: 0.9593 - val_loss: 0.1796 - val_accuracy: 0.9706\n",
      "Epoch 49/100\n",
      "600/600 [==============================] - 3s 5ms/step - loss: 0.2204 - accuracy: 0.9587 - val_loss: 0.1827 - val_accuracy: 0.9717\n",
      "Epoch 50/100\n",
      "600/600 [==============================] - 3s 4ms/step - loss: 0.2147 - accuracy: 0.9596 - val_loss: 0.1801 - val_accuracy: 0.9725\n",
      "Epoch 51/100\n",
      "600/600 [==============================] - 3s 5ms/step - loss: 0.2163 - accuracy: 0.9607 - val_loss: 0.1770 - val_accuracy: 0.9731\n",
      "Epoch 52/100\n",
      "600/600 [==============================] - 3s 4ms/step - loss: 0.2140 - accuracy: 0.9596 - val_loss: 0.1746 - val_accuracy: 0.9718\n",
      "Epoch 53/100\n",
      "600/600 [==============================] - 3s 5ms/step - loss: 0.2209 - accuracy: 0.9581 - val_loss: 0.1813 - val_accuracy: 0.9707\n",
      "Epoch 54/100\n",
      "600/600 [==============================] - 3s 5ms/step - loss: 0.2146 - accuracy: 0.9593 - val_loss: 0.1850 - val_accuracy: 0.9695\n",
      "Epoch 55/100\n",
      "600/600 [==============================] - 3s 5ms/step - loss: 0.2148 - accuracy: 0.9599 - val_loss: 0.1836 - val_accuracy: 0.9704\n",
      "Epoch 56/100\n",
      "600/600 [==============================] - 3s 4ms/step - loss: 0.2158 - accuracy: 0.9593 - val_loss: 0.1824 - val_accuracy: 0.9706\n",
      "Epoch 57/100\n",
      "600/600 [==============================] - 3s 4ms/step - loss: 0.2166 - accuracy: 0.9595 - val_loss: 0.1853 - val_accuracy: 0.9687\n",
      "Epoch 58/100\n",
      "600/600 [==============================] - 3s 4ms/step - loss: 0.2062 - accuracy: 0.9615 - val_loss: 0.1854 - val_accuracy: 0.9695\n",
      "Epoch 59/100\n",
      "600/600 [==============================] - 3s 4ms/step - loss: 0.2155 - accuracy: 0.9590 - val_loss: 0.1801 - val_accuracy: 0.9687\n",
      "Epoch 60/100\n",
      "600/600 [==============================] - 3s 5ms/step - loss: 0.2105 - accuracy: 0.9610 - val_loss: 0.1763 - val_accuracy: 0.9715\n",
      "Epoch 61/100\n",
      "600/600 [==============================] - 3s 5ms/step - loss: 0.2178 - accuracy: 0.9594 - val_loss: 0.1722 - val_accuracy: 0.9723\n",
      "Epoch 62/100\n",
      "600/600 [==============================] - 3s 4ms/step - loss: 0.2082 - accuracy: 0.9614 - val_loss: 0.1821 - val_accuracy: 0.9692\n",
      "Epoch 63/100\n",
      "600/600 [==============================] - 3s 5ms/step - loss: 0.2147 - accuracy: 0.9597 - val_loss: 0.1912 - val_accuracy: 0.9687\n",
      "Epoch 64/100\n",
      "600/600 [==============================] - 3s 4ms/step - loss: 0.2166 - accuracy: 0.9596 - val_loss: 0.2084 - val_accuracy: 0.9627\n",
      "Epoch 65/100\n",
      "600/600 [==============================] - 3s 4ms/step - loss: 0.2102 - accuracy: 0.9607 - val_loss: 0.1771 - val_accuracy: 0.9714\n",
      "Epoch 66/100\n",
      "600/600 [==============================] - 3s 4ms/step - loss: 0.2092 - accuracy: 0.9611 - val_loss: 0.1904 - val_accuracy: 0.9675\n",
      "Epoch 67/100\n",
      "600/600 [==============================] - 3s 4ms/step - loss: 0.2139 - accuracy: 0.9603 - val_loss: 0.1852 - val_accuracy: 0.9698\n",
      "Epoch 68/100\n",
      "600/600 [==============================] - 3s 5ms/step - loss: 0.2137 - accuracy: 0.9604 - val_loss: 0.1837 - val_accuracy: 0.9699\n",
      "Epoch 69/100\n",
      "600/600 [==============================] - 3s 5ms/step - loss: 0.2092 - accuracy: 0.9613 - val_loss: 0.1889 - val_accuracy: 0.9683\n",
      "Epoch 70/100\n",
      "600/600 [==============================] - 3s 4ms/step - loss: 0.2129 - accuracy: 0.9604 - val_loss: 0.1743 - val_accuracy: 0.9738\n",
      "Epoch 71/100\n",
      "600/600 [==============================] - 3s 4ms/step - loss: 0.2092 - accuracy: 0.9607 - val_loss: 0.1921 - val_accuracy: 0.9682\n",
      "Epoch 72/100\n",
      "600/600 [==============================] - 3s 4ms/step - loss: 0.2144 - accuracy: 0.9595 - val_loss: 0.1751 - val_accuracy: 0.9725\n",
      "Epoch 73/100\n",
      "600/600 [==============================] - 3s 5ms/step - loss: 0.2079 - accuracy: 0.9619 - val_loss: 0.2036 - val_accuracy: 0.9638\n",
      "Epoch 74/100\n",
      "600/600 [==============================] - 3s 4ms/step - loss: 0.2145 - accuracy: 0.9598 - val_loss: 0.1926 - val_accuracy: 0.9682\n",
      "Epoch 75/100\n",
      "600/600 [==============================] - 3s 5ms/step - loss: 0.2137 - accuracy: 0.9610 - val_loss: 0.1865 - val_accuracy: 0.9673\n",
      "Epoch 76/100\n",
      "600/600 [==============================] - 3s 5ms/step - loss: 0.2122 - accuracy: 0.9608 - val_loss: 0.1836 - val_accuracy: 0.9677\n",
      "Epoch 77/100\n",
      "600/600 [==============================] - 3s 5ms/step - loss: 0.2121 - accuracy: 0.9598 - val_loss: 0.1800 - val_accuracy: 0.9712\n",
      "Epoch 78/100\n",
      "600/600 [==============================] - 3s 4ms/step - loss: 0.2100 - accuracy: 0.9602 - val_loss: 0.1845 - val_accuracy: 0.9705\n",
      "Epoch 79/100\n",
      "600/600 [==============================] - 3s 5ms/step - loss: 0.2124 - accuracy: 0.9610 - val_loss: 0.1780 - val_accuracy: 0.9717\n",
      "Epoch 80/100\n",
      "600/600 [==============================] - 3s 5ms/step - loss: 0.2132 - accuracy: 0.9593 - val_loss: 0.1882 - val_accuracy: 0.9670\n",
      "Epoch 81/100\n",
      "600/600 [==============================] - 3s 5ms/step - loss: 0.2137 - accuracy: 0.9600 - val_loss: 0.1726 - val_accuracy: 0.9718\n",
      "Epoch 82/100\n",
      "600/600 [==============================] - 3s 5ms/step - loss: 0.2180 - accuracy: 0.9589 - val_loss: 0.1795 - val_accuracy: 0.9720\n",
      "Epoch 83/100\n",
      "600/600 [==============================] - 3s 5ms/step - loss: 0.2125 - accuracy: 0.9593 - val_loss: 0.1900 - val_accuracy: 0.9687\n",
      "Epoch 84/100\n",
      "600/600 [==============================] - 3s 5ms/step - loss: 0.2088 - accuracy: 0.9605 - val_loss: 0.1845 - val_accuracy: 0.9706\n",
      "Epoch 85/100\n",
      "600/600 [==============================] - 3s 5ms/step - loss: 0.2094 - accuracy: 0.9610 - val_loss: 0.1871 - val_accuracy: 0.9701\n",
      "Epoch 86/100\n",
      "600/600 [==============================] - 3s 5ms/step - loss: 0.2117 - accuracy: 0.9598 - val_loss: 0.1770 - val_accuracy: 0.9723\n",
      "Epoch 87/100\n",
      "600/600 [==============================] - 3s 5ms/step - loss: 0.2129 - accuracy: 0.9608 - val_loss: 0.1820 - val_accuracy: 0.9714\n",
      "Epoch 88/100\n",
      "600/600 [==============================] - 3s 5ms/step - loss: 0.2105 - accuracy: 0.9604 - val_loss: 0.1738 - val_accuracy: 0.9710\n",
      "Epoch 89/100\n",
      "600/600 [==============================] - 3s 4ms/step - loss: 0.2058 - accuracy: 0.9621 - val_loss: 0.1887 - val_accuracy: 0.9688\n",
      "Epoch 90/100\n",
      "600/600 [==============================] - 3s 5ms/step - loss: 0.2180 - accuracy: 0.9579 - val_loss: 0.2072 - val_accuracy: 0.9618\n",
      "Epoch 91/100\n",
      "600/600 [==============================] - 3s 5ms/step - loss: 0.2167 - accuracy: 0.9605 - val_loss: 0.1896 - val_accuracy: 0.9692\n",
      "Epoch 92/100\n",
      "600/600 [==============================] - 3s 5ms/step - loss: 0.2112 - accuracy: 0.9605 - val_loss: 0.1885 - val_accuracy: 0.9690\n",
      "Epoch 93/100\n",
      "600/600 [==============================] - 3s 5ms/step - loss: 0.2172 - accuracy: 0.9579 - val_loss: 0.1767 - val_accuracy: 0.9708\n",
      "Epoch 94/100\n",
      "600/600 [==============================] - 3s 5ms/step - loss: 0.2107 - accuracy: 0.9605 - val_loss: 0.1886 - val_accuracy: 0.9693\n",
      "Epoch 95/100\n",
      "600/600 [==============================] - 3s 5ms/step - loss: 0.2131 - accuracy: 0.9601 - val_loss: 0.1926 - val_accuracy: 0.9655\n",
      "Epoch 96/100\n",
      "600/600 [==============================] - 3s 5ms/step - loss: 0.2208 - accuracy: 0.9575 - val_loss: 0.1857 - val_accuracy: 0.9695\n",
      "Epoch 97/100\n",
      "600/600 [==============================] - 3s 5ms/step - loss: 0.2109 - accuracy: 0.9614 - val_loss: 0.1743 - val_accuracy: 0.9737\n",
      "Epoch 98/100\n",
      "600/600 [==============================] - 3s 5ms/step - loss: 0.2080 - accuracy: 0.9599 - val_loss: 0.1822 - val_accuracy: 0.9707\n",
      "Epoch 99/100\n",
      "600/600 [==============================] - 3s 4ms/step - loss: 0.2146 - accuracy: 0.9590 - val_loss: 0.1882 - val_accuracy: 0.9675\n",
      "Epoch 100/100\n",
      "600/600 [==============================] - 3s 5ms/step - loss: 0.2108 - accuracy: 0.9604 - val_loss: 0.1887 - val_accuracy: 0.9665\n"
     ]
    },
    {
     "data": {
      "text/plain": [
       "<keras.callbacks.History at 0x7f321ea3ca90>"
      ]
     },
     "execution_count": 16,
     "metadata": {},
     "output_type": "execute_result"
    }
   ],
   "source": [
    "model.fit(X_train, y_train, batch_size = 56, epochs = 100,validation_split = 0.2, verbose = 1)"
   ]
  },
  {
   "cell_type": "code",
   "execution_count": 17,
   "id": "142102e6",
   "metadata": {
    "execution": {
     "iopub.execute_input": "2022-07-02T12:23:40.982923Z",
     "iopub.status.busy": "2022-07-02T12:23:40.982240Z",
     "iopub.status.idle": "2022-07-02T12:23:45.014069Z",
     "shell.execute_reply": "2022-07-02T12:23:45.013046Z"
    },
    "papermill": {
     "duration": 4.385811,
     "end_time": "2022-07-02T12:23:45.016467",
     "exception": false,
     "start_time": "2022-07-02T12:23:40.630656",
     "status": "completed"
    },
    "tags": []
   },
   "outputs": [
    {
     "name": "stdout",
     "output_type": "stream",
     "text": [
      "1313/1313 [==============================] - 3s 2ms/step - loss: 0.1503 - accuracy: 0.9791\n"
     ]
    }
   ],
   "source": [
    "train_results = model.evaluate(X_train,y_train)"
   ]
  },
  {
   "cell_type": "code",
   "execution_count": 18,
   "id": "d53bfab9",
   "metadata": {
    "execution": {
     "iopub.execute_input": "2022-07-02T12:23:45.782736Z",
     "iopub.status.busy": "2022-07-02T12:23:45.782339Z",
     "iopub.status.idle": "2022-07-02T12:23:45.787368Z",
     "shell.execute_reply": "2022-07-02T12:23:45.786608Z"
    },
    "papermill": {
     "duration": 0.419945,
     "end_time": "2022-07-02T12:23:45.790059",
     "exception": false,
     "start_time": "2022-07-02T12:23:45.370114",
     "status": "completed"
    },
    "tags": []
   },
   "outputs": [
    {
     "name": "stdout",
     "output_type": "stream",
     "text": [
      "['loss', 'accuracy']\n",
      "\n",
      "Training :  [0.15033552050590515, 0.9790714383125305]\n"
     ]
    }
   ],
   "source": [
    "print(model.metrics_names)    \n",
    "print(\"\\nTraining : \",train_results)"
   ]
  },
  {
   "cell_type": "code",
   "execution_count": 19,
   "id": "5c4f9b40",
   "metadata": {
    "execution": {
     "iopub.execute_input": "2022-07-02T12:23:46.502899Z",
     "iopub.status.busy": "2022-07-02T12:23:46.502532Z",
     "iopub.status.idle": "2022-07-02T12:23:48.157093Z",
     "shell.execute_reply": "2022-07-02T12:23:48.156036Z"
    },
    "papermill": {
     "duration": 2.012046,
     "end_time": "2022-07-02T12:23:48.159735",
     "exception": false,
     "start_time": "2022-07-02T12:23:46.147689",
     "status": "completed"
    },
    "tags": []
   },
   "outputs": [],
   "source": [
    "y_pred = model.predict(X_test)\n"
   ]
  },
  {
   "cell_type": "markdown",
   "id": "2bc872f7",
   "metadata": {
    "papermill": {
     "duration": 0.353238,
     "end_time": "2022-07-02T12:23:48.864547",
     "exception": false,
     "start_time": "2022-07-02T12:23:48.511309",
     "status": "completed"
    },
    "tags": []
   },
   "source": [
    "## Output is in one hot encoded format,so we need to bring it back to the original format(reverse one hot encoding)\n",
    "## 10 column(OHE) to 1 column(Original)"
   ]
  },
  {
   "cell_type": "code",
   "execution_count": 20,
   "id": "294cfc21",
   "metadata": {
    "execution": {
     "iopub.execute_input": "2022-07-02T12:23:49.643160Z",
     "iopub.status.busy": "2022-07-02T12:23:49.642392Z",
     "iopub.status.idle": "2022-07-02T12:23:49.650922Z",
     "shell.execute_reply": "2022-07-02T12:23:49.650055Z"
    },
    "papermill": {
     "duration": 0.37887,
     "end_time": "2022-07-02T12:23:49.653109",
     "exception": false,
     "start_time": "2022-07-02T12:23:49.274239",
     "status": "completed"
    },
    "tags": []
   },
   "outputs": [
    {
     "data": {
      "text/plain": [
       "array([[1., 1., 2., ..., 1., 1., 1.],\n",
       "       [2., 1., 1., ..., 1., 1., 1.],\n",
       "       [1., 1., 1., ..., 1., 1., 2.],\n",
       "       ...,\n",
       "       [1., 1., 1., ..., 1., 1., 1.],\n",
       "       [1., 1., 1., ..., 1., 1., 2.],\n",
       "       [1., 1., 2., ..., 1., 1., 1.]], dtype=float32)"
      ]
     },
     "execution_count": 20,
     "metadata": {},
     "output_type": "execute_result"
    }
   ],
   "source": [
    "np.floor(np.exp(y_pred)) #10 columns output"
   ]
  },
  {
   "cell_type": "code",
   "execution_count": 21,
   "id": "31efd552",
   "metadata": {
    "execution": {
     "iopub.execute_input": "2022-07-02T12:23:50.364214Z",
     "iopub.status.busy": "2022-07-02T12:23:50.363814Z",
     "iopub.status.idle": "2022-07-02T12:23:50.369019Z",
     "shell.execute_reply": "2022-07-02T12:23:50.368149Z"
    },
    "papermill": {
     "duration": 0.363705,
     "end_time": "2022-07-02T12:23:50.371185",
     "exception": false,
     "start_time": "2022-07-02T12:23:50.007480",
     "status": "completed"
    },
    "tags": []
   },
   "outputs": [],
   "source": [
    "out = pd.DataFrame(np.floor(np.exp(y_pred)))"
   ]
  },
  {
   "cell_type": "markdown",
   "id": "e99598dd",
   "metadata": {
    "papermill": {
     "duration": 0.410855,
     "end_time": "2022-07-02T12:23:51.132276",
     "exception": false,
     "start_time": "2022-07-02T12:23:50.721421",
     "status": "completed"
    },
    "tags": []
   },
   "source": [
    "### Reversing onehot encoding using simple idxmax of columns"
   ]
  },
  {
   "cell_type": "code",
   "execution_count": 22,
   "id": "a7572b85",
   "metadata": {
    "execution": {
     "iopub.execute_input": "2022-07-02T12:23:51.834250Z",
     "iopub.status.busy": "2022-07-02T12:23:51.833506Z",
     "iopub.status.idle": "2022-07-02T12:23:51.885863Z",
     "shell.execute_reply": "2022-07-02T12:23:51.884996Z"
    },
    "papermill": {
     "duration": 0.406549,
     "end_time": "2022-07-02T12:23:51.888246",
     "exception": false,
     "start_time": "2022-07-02T12:23:51.481697",
     "status": "completed"
    },
    "tags": []
   },
   "outputs": [],
   "source": [
    "out['Label']=out.idxmax(1)   \n"
   ]
  },
  {
   "cell_type": "code",
   "execution_count": 23,
   "id": "df13a5c6",
   "metadata": {
    "execution": {
     "iopub.execute_input": "2022-07-02T12:23:52.595669Z",
     "iopub.status.busy": "2022-07-02T12:23:52.595011Z",
     "iopub.status.idle": "2022-07-02T12:23:52.600034Z",
     "shell.execute_reply": "2022-07-02T12:23:52.599181Z"
    },
    "papermill": {
     "duration": 0.361043,
     "end_time": "2022-07-02T12:23:52.602031",
     "exception": false,
     "start_time": "2022-07-02T12:23:52.240988",
     "status": "completed"
    },
    "tags": []
   },
   "outputs": [],
   "source": [
    "out['ImageId']=X_test.index+1\n"
   ]
  },
  {
   "cell_type": "code",
   "execution_count": 24,
   "id": "0dffc97e",
   "metadata": {
    "execution": {
     "iopub.execute_input": "2022-07-02T12:23:53.365300Z",
     "iopub.status.busy": "2022-07-02T12:23:53.364923Z",
     "iopub.status.idle": "2022-07-02T12:23:53.373802Z",
     "shell.execute_reply": "2022-07-02T12:23:53.373020Z"
    },
    "papermill": {
     "duration": 0.420554,
     "end_time": "2022-07-02T12:23:53.375791",
     "exception": false,
     "start_time": "2022-07-02T12:23:52.955237",
     "status": "completed"
    },
    "tags": []
   },
   "outputs": [],
   "source": [
    "out.drop(out.iloc[:,0:10],axis=1,inplace=True)"
   ]
  },
  {
   "cell_type": "markdown",
   "id": "ff7f3c05",
   "metadata": {
    "papermill": {
     "duration": 0.354269,
     "end_time": "2022-07-02T12:23:54.081914",
     "exception": false,
     "start_time": "2022-07-02T12:23:53.727645",
     "status": "completed"
    },
    "tags": []
   },
   "source": [
    "### Rearanging column order so Predicted label is last column"
   ]
  },
  {
   "cell_type": "code",
   "execution_count": 25,
   "id": "b50dbc28",
   "metadata": {
    "execution": {
     "iopub.execute_input": "2022-07-02T12:23:54.790065Z",
     "iopub.status.busy": "2022-07-02T12:23:54.789356Z",
     "iopub.status.idle": "2022-07-02T12:23:54.794998Z",
     "shell.execute_reply": "2022-07-02T12:23:54.794223Z"
    },
    "papermill": {
     "duration": 0.362342,
     "end_time": "2022-07-02T12:23:54.797100",
     "exception": false,
     "start_time": "2022-07-02T12:23:54.434758",
     "status": "completed"
    },
    "tags": []
   },
   "outputs": [],
   "source": [
    "cols=out.columns.tolist()\n",
    "cols=cols[-1:] + cols[:-1]\n",
    "out=out[cols]\n"
   ]
  },
  {
   "cell_type": "code",
   "execution_count": 26,
   "id": "f8b93e20",
   "metadata": {
    "execution": {
     "iopub.execute_input": "2022-07-02T12:23:55.559734Z",
     "iopub.status.busy": "2022-07-02T12:23:55.558784Z",
     "iopub.status.idle": "2022-07-02T12:23:55.610955Z",
     "shell.execute_reply": "2022-07-02T12:23:55.609911Z"
    },
    "papermill": {
     "duration": 0.408145,
     "end_time": "2022-07-02T12:23:55.613375",
     "exception": false,
     "start_time": "2022-07-02T12:23:55.205230",
     "status": "completed"
    },
    "tags": []
   },
   "outputs": [
    {
     "name": "stdout",
     "output_type": "stream",
     "text": [
      "Your submission was successfully saved!\n"
     ]
    }
   ],
   "source": [
    "out.to_csv('submission.csv',index=False)\n",
    "print(\"Your submission was successfully saved!\")"
   ]
  },
  {
   "cell_type": "code",
   "execution_count": 27,
   "id": "3781a9f2",
   "metadata": {
    "execution": {
     "iopub.execute_input": "2022-07-02T12:23:56.326641Z",
     "iopub.status.busy": "2022-07-02T12:23:56.325956Z",
     "iopub.status.idle": "2022-07-02T12:23:56.345255Z",
     "shell.execute_reply": "2022-07-02T12:23:56.344277Z"
    },
    "papermill": {
     "duration": 0.38117,
     "end_time": "2022-07-02T12:23:56.347355",
     "exception": false,
     "start_time": "2022-07-02T12:23:55.966185",
     "status": "completed"
    },
    "tags": []
   },
   "outputs": [
    {
     "data": {
      "text/html": [
       "<div>\n",
       "<style scoped>\n",
       "    .dataframe tbody tr th:only-of-type {\n",
       "        vertical-align: middle;\n",
       "    }\n",
       "\n",
       "    .dataframe tbody tr th {\n",
       "        vertical-align: top;\n",
       "    }\n",
       "\n",
       "    .dataframe thead th {\n",
       "        text-align: right;\n",
       "    }\n",
       "</style>\n",
       "<table border=\"1\" class=\"dataframe\">\n",
       "  <thead>\n",
       "    <tr style=\"text-align: right;\">\n",
       "      <th></th>\n",
       "      <th>ImageId</th>\n",
       "      <th>Label</th>\n",
       "    </tr>\n",
       "  </thead>\n",
       "  <tbody>\n",
       "    <tr>\n",
       "      <th>0</th>\n",
       "      <td>1</td>\n",
       "      <td>2</td>\n",
       "    </tr>\n",
       "    <tr>\n",
       "      <th>1</th>\n",
       "      <td>2</td>\n",
       "      <td>0</td>\n",
       "    </tr>\n",
       "    <tr>\n",
       "      <th>2</th>\n",
       "      <td>3</td>\n",
       "      <td>9</td>\n",
       "    </tr>\n",
       "    <tr>\n",
       "      <th>3</th>\n",
       "      <td>4</td>\n",
       "      <td>9</td>\n",
       "    </tr>\n",
       "    <tr>\n",
       "      <th>4</th>\n",
       "      <td>5</td>\n",
       "      <td>3</td>\n",
       "    </tr>\n",
       "    <tr>\n",
       "      <th>...</th>\n",
       "      <td>...</td>\n",
       "      <td>...</td>\n",
       "    </tr>\n",
       "    <tr>\n",
       "      <th>27995</th>\n",
       "      <td>27996</td>\n",
       "      <td>9</td>\n",
       "    </tr>\n",
       "    <tr>\n",
       "      <th>27996</th>\n",
       "      <td>27997</td>\n",
       "      <td>7</td>\n",
       "    </tr>\n",
       "    <tr>\n",
       "      <th>27997</th>\n",
       "      <td>27998</td>\n",
       "      <td>3</td>\n",
       "    </tr>\n",
       "    <tr>\n",
       "      <th>27998</th>\n",
       "      <td>27999</td>\n",
       "      <td>9</td>\n",
       "    </tr>\n",
       "    <tr>\n",
       "      <th>27999</th>\n",
       "      <td>28000</td>\n",
       "      <td>2</td>\n",
       "    </tr>\n",
       "  </tbody>\n",
       "</table>\n",
       "<p>28000 rows × 2 columns</p>\n",
       "</div>"
      ],
      "text/plain": [
       "       ImageId  Label\n",
       "0            1      2\n",
       "1            2      0\n",
       "2            3      9\n",
       "3            4      9\n",
       "4            5      3\n",
       "...        ...    ...\n",
       "27995    27996      9\n",
       "27996    27997      7\n",
       "27997    27998      3\n",
       "27998    27999      9\n",
       "27999    28000      2\n",
       "\n",
       "[28000 rows x 2 columns]"
      ]
     },
     "execution_count": 27,
     "metadata": {},
     "output_type": "execute_result"
    }
   ],
   "source": [
    "pd.read_csv(\"submission.csv\")"
   ]
  },
  {
   "cell_type": "code",
   "execution_count": null,
   "id": "ac89be76",
   "metadata": {
    "papermill": {
     "duration": 0.411305,
     "end_time": "2022-07-02T12:23:57.110310",
     "exception": false,
     "start_time": "2022-07-02T12:23:56.699005",
     "status": "completed"
    },
    "tags": []
   },
   "outputs": [],
   "source": []
  },
  {
   "cell_type": "code",
   "execution_count": null,
   "id": "b5ea65a2",
   "metadata": {
    "papermill": {
     "duration": 0.351079,
     "end_time": "2022-07-02T12:23:57.812534",
     "exception": false,
     "start_time": "2022-07-02T12:23:57.461455",
     "status": "completed"
    },
    "tags": []
   },
   "outputs": [],
   "source": []
  }
 ],
 "metadata": {
  "kernelspec": {
   "display_name": "Python 3",
   "language": "python",
   "name": "python3"
  },
  "language_info": {
   "codemirror_mode": {
    "name": "ipython",
    "version": 3
   },
   "file_extension": ".py",
   "mimetype": "text/x-python",
   "name": "python",
   "nbconvert_exporter": "python",
   "pygments_lexer": "ipython3",
   "version": "3.7.12"
  },
  "papermill": {
   "default_parameters": {},
   "duration": 373.033029,
   "end_time": "2022-07-02T12:24:00.921903",
   "environment_variables": {},
   "exception": null,
   "input_path": "__notebook__.ipynb",
   "output_path": "__notebook__.ipynb",
   "parameters": {},
   "start_time": "2022-07-02T12:17:47.888874",
   "version": "2.3.4"
  }
 },
 "nbformat": 4,
 "nbformat_minor": 5
}
